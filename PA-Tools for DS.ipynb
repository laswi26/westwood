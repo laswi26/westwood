{
 "cells": [
  {
   "cell_type": "markdown",
   "id": "e64d867d-bbaf-405a-82ab-c5c9b0f60471",
   "metadata": {},
   "source": [
    "# My Jupyter Notebook on IBM Watson Studio"
   ]
  },
  {
   "cell_type": "markdown",
   "id": "cfe0105b-5fc0-4d64-a505-5fe2c22e365c",
   "metadata": {},
   "source": [
    "**Ahmad Laswi**\n",
    "\n",
    "Engineer"
   ]
  },
  {
   "cell_type": "markdown",
   "id": "8a26c92c-6156-4614-a5a6-4067dd7980c7",
   "metadata": {},
   "source": [
    "*I am intersted in Data sience because for me, data science was a way to become a detective. For every new case, you have to go into a new field to try to understand how it works, to massage the data until you understand them, to try to acquire all the knowledge of the field without being a specialist. And because I am very curious about very different techniques in science, for me, it is exactly what I wanted.*"
   ]
  },
  {
   "cell_type": "markdown",
   "id": "205247a1-ddd5-4833-a463-3494f5498331",
   "metadata": {},
   "source": [
    "### we will find the result of the summation of 1+1"
   ]
  },
  {
   "cell_type": "code",
   "execution_count": 2,
   "id": "b95d58b8-6b04-4349-a82b-73b6d4526dd1",
   "metadata": {},
   "outputs": [
    {
     "data": {
      "text/plain": [
       "2"
      ]
     },
     "execution_count": 2,
     "metadata": {},
     "output_type": "execute_result"
    }
   ],
   "source": [
    "1 + 1\n"
   ]
  },
  {
   "cell_type": "code",
   "execution_count": null,
   "id": "6a759f07-9316-4a4a-a7de-73c573d83a77",
   "metadata": {},
   "outputs": [],
   "source": [
    "1. First ordered list item\n",
    "2. Another item\n",
    "\n",
    "| laswi         | is            | Cool  |\n",
    "| ------------- |:-------------:| -----:|\n",
    "| col 3 is      | right-aligned | $1600 |\n",
    "| col 2 is      | centered      |   $12 |\n",
    "| zebra stripes | are neat      |    $1 |"
   ]
  }
 ],
 "metadata": {
  "kernelspec": {
   "display_name": "Python 3 (ipykernel)",
   "language": "python",
   "name": "python3"
  },
  "language_info": {
   "codemirror_mode": {
    "name": "ipython",
    "version": 3
   },
   "file_extension": ".py",
   "mimetype": "text/x-python",
   "name": "python",
   "nbconvert_exporter": "python",
   "pygments_lexer": "ipython3",
   "version": "3.9.12"
  }
 },
 "nbformat": 4,
 "nbformat_minor": 5
}
